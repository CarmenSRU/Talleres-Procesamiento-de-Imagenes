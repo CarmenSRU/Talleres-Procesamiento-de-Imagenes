{
 "cells": [
  {
   "attachments": {},
   "cell_type": "markdown",
   "metadata": {
    "colab_type": "text",
    "id": "W0PNxVDzpwVK"
   },
   "source": [
    "<center><span style=\"color:yellow\"><h1><i> DICOM </i></h1></span></center>"
   ]
  },
  {
   "attachments": {},
   "cell_type": "markdown",
   "metadata": {
    "colab_type": "text",
    "id": "v-XO6d9UpwVO"
   },
   "source": [
    "### Importe las librerias necesarias"
   ]
  },
  {
   "cell_type": "code",
   "execution_count": 1,
   "metadata": {
    "colab": {},
    "colab_type": "code",
    "id": "pSjJPvdNpwVf"
   },
   "outputs": [],
   "source": [
    "import pydicom\n",
    "import matplotlib.pyplot as plt\n",
    "import cv2\n",
    "import os\n",
    "import numpy as np"
   ]
  },
  {
   "attachments": {},
   "cell_type": "markdown",
   "metadata": {
    "colab_type": "text",
    "id": "yhqc92DlpwVs"
   },
   "source": [
    "### 1)\tUbique la carpeta con los archivos DICOM y muestre los nombres de los diferentes archivos"
   ]
  },
  {
   "cell_type": "code",
   "execution_count": 5,
   "metadata": {
    "colab": {},
    "colab_type": "code",
    "id": "QmjKKihdpwVu"
   },
   "outputs": [
    {
     "name": "stdout",
     "output_type": "stream",
     "text": [
      "Archivos en la carpeta:\n",
      "000000.dcm\n",
      "000001.dcm\n",
      "000002.dcm\n",
      "000003.dcm\n",
      "000004.dcm\n",
      "000005.dcm\n",
      "000006.dcm\n",
      "000007.dcm\n",
      "000008.dcm\n",
      "000009.dcm\n",
      "000010.dcm\n",
      "000011.dcm\n",
      "000012.dcm\n",
      "000013.dcm\n",
      "000014.dcm\n",
      "000015.dcm\n",
      "000016.dcm\n",
      "000017.dcm\n",
      "000018.dcm\n",
      "000019.dcm\n",
      "000020.dcm\n",
      "000021.dcm\n",
      "000022.dcm\n",
      "000023.dcm\n",
      "000024.dcm\n",
      "000025.dcm\n",
      "000026.dcm\n",
      "000027.dcm\n",
      "000028.dcm\n",
      "000029.dcm\n",
      "000030.dcm\n",
      "000031.dcm\n",
      "000032.dcm\n",
      "000033.dcm\n",
      "000034.dcm\n",
      "000035.dcm\n",
      "000036.dcm\n",
      "000037.dcm\n",
      "000038.dcm\n",
      "000039.dcm\n",
      "000040.dcm\n",
      "000041.dcm\n",
      "000042.dcm\n",
      "000043.dcm\n",
      "000044.dcm\n",
      "000045.dcm\n",
      "000046.dcm\n",
      "000047.dcm\n",
      "000048.dcm\n",
      "000049.dcm\n",
      "000050.dcm\n",
      "000051.dcm\n",
      "000052.dcm\n",
      "000053.dcm\n",
      "000054.dcm\n",
      "000055.dcm\n",
      "000056.dcm\n",
      "000057.dcm\n",
      "000058.dcm\n",
      "000059.dcm\n",
      "000060.dcm\n",
      "000061.dcm\n",
      "000062.dcm\n",
      "000063.dcm\n",
      "000064.dcm\n",
      "000065.dcm\n",
      "000066.dcm\n",
      "000067.dcm\n",
      "000068.dcm\n",
      "000069.dcm\n",
      "000070.dcm\n",
      "000071.dcm\n",
      "000072.dcm\n",
      "000073.dcm\n",
      "000074.dcm\n",
      "000075.dcm\n",
      "000076.dcm\n",
      "000077.dcm\n",
      "000078.dcm\n",
      "000079.dcm\n",
      "000080.dcm\n",
      "000081.dcm\n",
      "000082.dcm\n",
      "000083.dcm\n",
      "000084.dcm\n",
      "000085.dcm\n",
      "000086.dcm\n",
      "000087.dcm\n",
      "000088.dcm\n",
      "000089.dcm\n",
      "000090.dcm\n",
      "000091.dcm\n",
      "000092.dcm\n",
      "000093.dcm\n",
      "000094.dcm\n",
      "000095.dcm\n",
      "000096.dcm\n",
      "000097.dcm\n",
      "000098.dcm\n"
     ]
    }
   ],
   "source": [
    "ruta = r\"C:\\Users\\budgi\\OneDrive\\Documentos\\TrabajosBi\\UdeA\\Informática 2\\Parcial3\\Talleres\\datos\"  # cambia esta ruta según tu caso\n",
    "\n",
    "if os.path.exists(ruta):\n",
    "    archivos = os.listdir(ruta)\n",
    "    print(\"Archivos en la carpeta:\")\n",
    "    for archivo in archivos:\n",
    "        print(archivo)\n",
    "else:\n",
    "    print(\"La carpeta no existe.\")"
   ]
  },
  {
   "attachments": {},
   "cell_type": "markdown",
   "metadata": {
    "colab_type": "text",
    "id": "y_ug6zlSpwV4"
   },
   "source": [
    "### 2)\tLea todos los archivos alli contenidos e ingrese los datasets en una lista"
   ]
  },
  {
   "cell_type": "code",
   "execution_count": 6,
   "metadata": {
    "colab": {
     "base_uri": "https://localhost:8080/",
     "height": 286
    },
    "colab_type": "code",
    "id": "rgty_su0pwV7",
    "outputId": "c1586c7d-2b4e-4277-8ede-3bd6d60bb410"
   },
   "outputs": [],
   "source": [
    "datasets = []\n",
    "for archivo in archivos:\n",
    "        dcm_data = pydicom.dcmread('datos/'+ archivo)\n",
    "        datasets.append(dcm_data)"
   ]
  },
  {
   "attachments": {},
   "cell_type": "markdown",
   "metadata": {
    "colab_type": "text",
    "id": "qU-67W1rpwWF"
   },
   "source": [
    "### 3)\tSi los archivos aparecen desordenados, primero verifique de cualquiera de los datasets en la lista , si tiene el dataelement ImagePositionPatient o SliceLocation y ordene por alguno de estos parametros los datasets (fijarse en que eje esta variando los datasets)"
   ]
  },
  {
   "cell_type": "code",
   "execution_count": null,
   "metadata": {
    "colab": {},
    "colab_type": "code",
    "id": "pgE8hkxgpwWK"
   },
   "outputs": [],
   "source": []
  },
  {
   "attachments": {},
   "cell_type": "markdown",
   "metadata": {
    "colab_type": "text",
    "id": "6OhEyqEzpwWV"
   },
   "source": [
    "### 4) Muestre los dataelements de cualquier dataset"
   ]
  },
  {
   "cell_type": "code",
   "execution_count": null,
   "metadata": {
    "colab": {
     "base_uri": "https://localhost:8080/",
     "height": 286
    },
    "colab_type": "code",
    "id": "xc2dggNypwWZ",
    "outputId": "b57d4024-c12f-49c6-9810-b3967dfaea42"
   },
   "outputs": [],
   "source": []
  },
  {
   "attachments": {},
   "cell_type": "markdown",
   "metadata": {
    "colab_type": "text",
    "id": "JOZQ8ydOpwWi"
   },
   "source": [
    "### 5)\tVisualice la imagen de cualquiera de los datasets leidos , y muestre que profundidad de pixel (dtype), trae la matriz por defecto."
   ]
  },
  {
   "cell_type": "code",
   "execution_count": null,
   "metadata": {
    "colab": {
     "base_uri": "https://localhost:8080/",
     "height": 286
    },
    "colab_type": "code",
    "id": "BuEKwEiSpwWn",
    "outputId": "6eaa6aca-49f3-4d3e-96f0-2e115e8a993b"
   },
   "outputs": [],
   "source": []
  },
  {
   "attachments": {},
   "cell_type": "markdown",
   "metadata": {
    "colab_type": "text",
    "id": "B6gVQSK2pwXA"
   },
   "source": [
    "### 6) Genere el \"sólido\" a partir de todas las imágenes superpuestas "
   ]
  },
  {
   "cell_type": "code",
   "execution_count": null,
   "metadata": {
    "colab": {
     "base_uri": "https://localhost:8080/",
     "height": 286
    },
    "colab_type": "code",
    "id": "2AfT6w8BpwXD",
    "outputId": "bbffd2da-9c83-48a2-cdba-14c0905ea8ca"
   },
   "outputs": [],
   "source": []
  },
  {
   "attachments": {},
   "cell_type": "markdown",
   "metadata": {
    "colab_type": "text",
    "id": "ekrVHDEmpwXN"
   },
   "source": [
    "### 7)\tMuestre en 3 suplots horizontales los cortes coronal , sagital y axial, con su respectivo titulo"
   ]
  },
  {
   "cell_type": "code",
   "execution_count": null,
   "metadata": {
    "colab": {
     "base_uri": "https://localhost:8080/",
     "height": 286
    },
    "colab_type": "code",
    "id": "dhUJtM-ppwXQ",
    "outputId": "9ba3e8e9-cafd-4ed9-c278-0662698d0f6f"
   },
   "outputs": [],
   "source": []
  },
  {
   "attachments": {},
   "cell_type": "markdown",
   "metadata": {
    "colab_type": "text",
    "id": "bbDKxaX1pwXY"
   },
   "source": [
    "### 8) Extraiga toda la información del paciente asociado al estudio"
   ]
  },
  {
   "cell_type": "code",
   "execution_count": null,
   "metadata": {
    "colab": {
     "base_uri": "https://localhost:8080/",
     "height": 303
    },
    "colab_type": "code",
    "id": "DQhPw_pWpwXd",
    "outputId": "6226cd0c-03c8-4069-b839-39ce2db5ab1d"
   },
   "outputs": [],
   "source": []
  },
  {
   "attachments": {},
   "cell_type": "markdown",
   "metadata": {
    "colab_type": "text",
    "id": "d27ehNfjpwXr"
   },
   "source": [
    "### 9)\tLos datos que esten anonimizados modifiquelos por información ficticia. y posteriormente los guarda"
   ]
  },
  {
   "cell_type": "code",
   "execution_count": null,
   "metadata": {
    "colab": {
     "base_uri": "https://localhost:8080/",
     "height": 139
    },
    "colab_type": "code",
    "id": "yR7Nv-F5pwXv",
    "outputId": "af124f07-e054-41ad-dcfd-9fdee06daf8c"
   },
   "outputs": [],
   "source": []
  },
  {
   "attachments": {},
   "cell_type": "markdown",
   "metadata": {
    "colab_type": "text",
    "id": "DmCkcVkrpwX5"
   },
   "source": [
    "### 10) cree una función que graficque un histograma de la matriz (imagen) que le pase como argumento"
   ]
  },
  {
   "cell_type": "code",
   "execution_count": null,
   "metadata": {
    "colab": {
     "base_uri": "https://localhost:8080/",
     "height": 34
    },
    "colab_type": "code",
    "id": "VIaA6pxhpwX8",
    "outputId": "71b95c8a-5f92-4250-a0dc-aa7c86c45867"
   },
   "outputs": [
    {
     "name": "stdout",
     "output_type": "stream",
     "text": [
      "('Area de mayor tamanho ', 3063.0)\n"
     ]
    }
   ],
   "source": []
  },
  {
   "attachments": {},
   "cell_type": "markdown",
   "metadata": {
    "colab_type": "text",
    "id": "oUrXOuIspwYG"
   },
   "source": [
    "### 11) Cree un subplot horizontal de 3 tramas y en cada uno muestre un histograma de un corte diferente, con su resepctivo título"
   ]
  },
  {
   "cell_type": "code",
   "execution_count": null,
   "metadata": {
    "colab": {
     "base_uri": "https://localhost:8080/",
     "height": 286
    },
    "colab_type": "code",
    "id": "1JkxRZMWpwYJ",
    "outputId": "49aa7aad-ab6b-4550-c9c6-006f514659c1",
    "scrolled": true
   },
   "outputs": [],
   "source": []
  }
 ],
 "metadata": {
  "colab": {
   "collapsed_sections": [],
   "name": "Taller_2_0 [Resuelto].ipynb",
   "provenance": []
  },
  "kernelspec": {
   "display_name": "base",
   "language": "python",
   "name": "python3"
  },
  "language_info": {
   "codemirror_mode": {
    "name": "ipython",
    "version": 3
   },
   "file_extension": ".py",
   "mimetype": "text/x-python",
   "name": "python",
   "nbconvert_exporter": "python",
   "pygments_lexer": "ipython3",
   "version": "3.12.3"
  }
 },
 "nbformat": 4,
 "nbformat_minor": 0
}
